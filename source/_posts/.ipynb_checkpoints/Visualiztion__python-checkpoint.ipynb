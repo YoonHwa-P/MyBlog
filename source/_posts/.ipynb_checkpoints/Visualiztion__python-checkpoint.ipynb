{
 "cells": [
  {
   "cell_type": "markdown",
   "metadata": {
    "id": "K4PzzG35zP5-"
   },
   "source": [
    "# Visualiztion _python으로 "
   ]
  },
  {
   "cell_type": "markdown",
   "metadata": {
    "id": "arVYYqsTzBse"
   },
   "source": [
    "[1103 학습]\n",
    "시각화 연습 및 작성 코드 깃헙 블로그 및 깃헙에 올리기, 개인별로 공유\n",
    "\n",
    "+ 시각화 올릴 때, 전체 코드 올리지 마시고, \n",
    "나눠서 올리세요. 설명 글 추가하시고여~ (예시 하단)\n",
    "\n",
    "  산점도: 산점도란 무엇인가? 언제 쓰는가? 코드 작성 및 간단 설명\n",
    "  박스플롯: 박스플롯이란 무엇인가? 언제 쓰는가? 코드 작성 및 간단 설명\n",
    "\n",
    "\n",
    "오후 1시까지 1차로 한번 올려서 개인별로 공유해주세요. 홧팅요"
   ]
  },
  {
   "cell_type": "markdown",
   "metadata": {
    "id": "gCkdOkD6zoaY"
   },
   "source": [
    "## Intro \n",
    "python에서 visualiztion 하기 위해서는 많은 방법이 있다. \n",
    "\n",
    "data Analist들은 시각화를 위해 많은 tool을 사용 하는데 우리는 **Seaborn**과 **Matplotlib**을 이용하여 시각화를 할 예정이다.\n",
    "\n",
    "\n",
    "<br>\n",
    "\n",
    "---\n",
    "\n",
    "<br>\n",
    "\n",
    "\n",
    "코드 기반(python)의 data visualiztion의 장점\n",
    "  - 여러 그래프 동시 작성 가능\n",
    "  - 기존의 코드 재활용성\n",
    "  - 데이터 그기의 제한이 없음 (RAM등의 제약조건 없을때)\n",
    "\n",
    "<br>\n",
    "\n",
    "**Matplotlib** 는 이미지 데이터와 정형 데이터(정적 그래프)를 시각화 할 수 있는데 나와 같은 비전공자들에게 시각화 문법이 조금 어렵다고 한다. 하지만 pandas data frame에서 쉽게 시각화 구현 하며, 통계(회귀선) 그래프 등을 쉽게 구현 할 수 있기 때문에 이를 배워야 한다. \n",
    "\n",
    "**seaborn**의 경우 그래프가 예쁘게 나오지 않지만 비교적 간단한 코드로 시각화를 할 수 있다. 하지만, 세부 옵션을 수정 하고 싶다면 Matplotlib를 알아야 한다. 이는 내부 원리를 파악 할 수 없기 때문에 내가 감당하기 힘들다. \n",
    "\n",
    " 때문에 지금 단계에서는 Matplotlib과 seaborn의 장점을 적절하게 섞어서 시각화를 진행 해 보자.\n",
    "\n",
    "<br>\n",
    "\n",
    "아래와 같은 Tutorial을 진행 하면 세부 옵션을 조정 하기 쉽다고 한다. \n",
    "https://matplotlib.org/stable/tutorials/index.html"
   ]
  },
  {
   "cell_type": "markdown",
   "metadata": {
    "id": "DatACJw4zmF9"
   },
   "source": [
    "## matplotlib\n",
    "\n",
    "matplotlib를 이용하여 visualiztion을 해 보자.\n",
    "\n",
    "제일 먼저 해 주어야 할 일은 Import하여 matplotlib를 불러오고 이를 plt등의 객체에 저장 해 주는 것이다. \n",
    "\n"
   ]
  },
  {
   "cell_type": "code",
   "execution_count": 6,
   "metadata": {
    "id": "pYJpaRM-vemE"
   },
   "outputs": [],
   "source": [
    "import matplotlib.pyplot as plt\n",
    "\n",
    "dates = [\n",
    "    '2021-01-01', '2021-01-02', '2021-01-03', '2021-01-04', '2021-01-05',\n",
    "    '2021-01-06', '2021-01-07', '2021-01-08', '2021-01-09', '2021-01-10'\n",
    "]\n",
    "min_temperature = [20.7, 17.9, 18.8, 14.6, 15.8, 15.8, 15.8, 17.4, 21.8, 20.0]\n",
    "max_temperature = [34.7, 28.9, 31.8, 25.6, 28.8, 21.8, 22.8, 28.4, 30.8, 32.0]\n"
   ]
  },
  {
   "cell_type": "markdown",
   "metadata": {
    "id": "gJjZkvCs22vC"
   },
   "source": [
    "위의 data는 강사님의 data를 가져 온 것이다. \n",
    "\n",
    "data를 시각화 자료로 만들어 보자,"
   ]
  },
  {
   "cell_type": "code",
   "execution_count": 8,
   "metadata": {
    "colab": {
     "base_uri": "https://localhost:8080/",
     "height": 374
    },
    "id": "WyW_vk1K2ccQ",
    "outputId": "c6354f22-a57f-4cad-b7d6-9d3833b327c6"
   },
   "outputs": [
    {
     "data": {
      "image/png": "[encoded data removed]",
      "text/plain": [
       "<Figure size 720x432 with 1 Axes>"
      ]
     },
     "metadata": {
      "needs_background": "light"
     },
     "output_type": "display_data"
    }
   ],
   "source": [
    "fig, axes = plt.subplots(nrows=1, ncols=1, figsize=(10,6))\n",
    "axes.plot(dates, min_temperature, label = 'Min Temperature')\n",
    "axes.plot(dates, max_temperature, label = 'Max Temperature')\n",
    "axes.legend()\n",
    "plt.show()"
   ]
  },
  {
   "cell_type": "markdown",
   "metadata": {
    "id": "Qnpiuweg3NVs"
   },
   "source": [
    "위의 표는 legend가 있고, 날짜별로 Min Temp와 Max Temp가 있는 그래프 이다. \n",
    "\n",
    "\n",
    "먼저 fig, ax = plt.subplots()를 이용하여 표를 생성 한다. \n",
    "\n",
    "이때 figure에대한 정보를 함께 생성 할 수 있는데, (nrows=1, ncols=1, figsize=(10,6)) 가 의미하는 것은 (행의 갯수 =1, 열의 갯수=1, fig size는 10X6)이다. \n",
    "\n",
    "ax를 통하여 plot 형태의 그래프를 그리는데, (x축, y축 , label = \"[name]\")의 형태로  plot을 추가 해 준다. \n",
    "이때 Legend 를 생성 하고 싶다면, ax.legend()함수로 추가 해 줄 수 있다. \n",
    "\n",
    "마지막으로 plt.show() 를 사용하여 마무리 해 준다. \n",
    "\n",
    "\n",
    "물론 마지막 코드를 넣지 않아도 보여 주지만, 넣어주는 것이 인지상정이라고 한다. "
   ]
  },
  {
   "cell_type": "code",
   "execution_count": 9,
   "metadata": {
    "colab": {
     "base_uri": "https://localhost:8080/"
    },
    "id": "s2arH6zr5sQF",
    "outputId": "e655c8ea-7cdd-4e44-b16d-0af2f0250366"
   },
   "outputs": [
    {
     "name": "stdout",
     "output_type": "stream",
     "text": [
      "Figure(720x432)\n",
      "AxesSubplot(0.125,0.125;0.775x0.755)\n"
     ]
    }
   ],
   "source": [
    "print(fig)\n",
    "print(axes)\n"
   ]
  },
  {
   "cell_type": "markdown",
   "metadata": {
    "id": "g4NQQ8bp5uvM"
   },
   "source": [
    "위의 표인 fig의 정보를 알 수 있게 print 함수로 뽑아 봤는데 이건 무슨 말 인지 잘 모르겠다. \n"
   ]
  },
  {
   "cell_type": "markdown",
   "metadata": {
    "id": "k6oqWi8E6aHf"
   },
   "source": [
    "### matplotlib로 선 그래프 그리기 "
   ]
  },
  {
   "cell_type": "markdown",
   "metadata": {
    "id": "SPSAcU6t6yqY"
   },
   "source": [
    "아직 data를 어디에서 받을 수 있는지 잘 모르기 때문에 강사님이 다운받은 표를 그대로 가져와 보자 \n",
    "\n",
    "참조: https://pypi.org/project/fix-yahoo-finance/"
   ]
  },
  {
   "cell_type": "code",
   "execution_count": 11,
   "metadata": {
    "colab": {
     "base_uri": "https://localhost:8080/"
    },
    "id": "QltGRYb36q8H",
    "outputId": "7c947ea3-40cb-4a48-bdc0-cc13b9aa4c5f"
   },
   "outputs": [
    {
     "name": "stdout",
     "output_type": "stream",
     "text": [
      "Collecting yfinance\n",
      "  Downloading yfinance-0.1.64.tar.gz (26 kB)\n",
      "Requirement already satisfied: pandas>=0.24 in /usr/local/lib/python3.7/dist-packages (from yfinance) (1.1.5)\n",
      "Requirement already satisfied: numpy>=1.15 in /usr/local/lib/python3.7/dist-packages (from yfinance) (1.19.5)\n",
      "Requirement already satisfied: requests>=2.20 in /usr/local/lib/python3.7/dist-packages (from yfinance) (2.23.0)\n",
      "Requirement already satisfied: multitasking>=0.0.7 in /usr/local/lib/python3.7/dist-packages (from yfinance) (0.0.9)\n",
      "Collecting lxml>=4.5.1\n",
      "  Downloading lxml-4.6.4-cp37-cp37m-manylinux_2_17_x86_64.manylinux2014_x86_64.manylinux_2_24_x86_64.whl (6.3 MB)\n",
      "\u001b[K     |████████████████████████████████| 6.3 MB 7.7 MB/s \n",
      "\u001b[?25hRequirement already satisfied: python-dateutil>=2.7.3 in /usr/local/lib/python3.7/dist-packages (from pandas>=0.24->yfinance) (2.8.2)\n",
      "Requirement already satisfied: pytz>=2017.2 in /usr/local/lib/python3.7/dist-packages (from pandas>=0.24->yfinance) (2018.9)\n",
      "Requirement already satisfied: six>=1.5 in /usr/local/lib/python3.7/dist-packages (from python-dateutil>=2.7.3->pandas>=0.24->yfinance) (1.15.0)\n",
      "Requirement already satisfied: urllib3!=1.25.0,!=1.25.1,<1.26,>=1.21.1 in /usr/local/lib/python3.7/dist-packages (from requests>=2.20->yfinance) (1.24.3)\n",
      "Requirement already satisfied: chardet<4,>=3.0.2 in /usr/local/lib/python3.7/dist-packages (from requests>=2.20->yfinance) (3.0.4)\n",
      "Requirement already satisfied: idna<3,>=2.5 in /usr/local/lib/python3.7/dist-packages (from requests>=2.20->yfinance) (2.10)\n",
      "Requirement already satisfied: certifi>=2017.4.17 in /usr/local/lib/python3.7/dist-packages (from requests>=2.20->yfinance) (2021.5.30)\n",
      "Building wheels for collected packages: yfinance\n",
      "  Building wheel for yfinance (setup.py) ... \u001b[?25l\u001b[?25hdone\n",
      "  Created wheel for yfinance: filename=yfinance-0.1.64-py2.py3-none-any.whl size=24109 sha256=25a6e16cba240e66cb4999d0947a231b790b2b96766767434407e09149ec9302\n",
      "  Stored in directory: /tmp/pip-ephem-wheel-cache-a8wml444/wheels/86/fe/9b/a4d3d78796b699e37065e5b6c27b75cff448ddb8b24943c288\n",
      "Successfully built yfinance\n",
      "Installing collected packages: lxml, yfinance\n",
      "  Attempting uninstall: lxml\n",
      "    Found existing installation: lxml 4.2.6\n",
      "    Uninstalling lxml-4.2.6:\n",
      "      Successfully uninstalled lxml-4.2.6\n",
      "Successfully installed lxml-4.6.4 yfinance-0.1.64\n"
     ]
    }
   ],
   "source": [
    "!pip install yfinance --upgrade --no-cache-dir"
   ]
  },
  {
   "cell_type": "code",
   "execution_count": 17,
   "metadata": {
    "colab": {
     "base_uri": "https://localhost:8080/"
    },
    "id": "FLcHS8q46jU9",
    "outputId": "89a15700-fea5-4a00-f758-70cb0c713997"
   },
   "outputs": [
    {
     "name": "stdout",
     "output_type": "stream",
     "text": [
      "\r",
      "[*********************100%***********************]  1 of 1 completed\n",
      "<class 'pandas.core.frame.DataFrame'>\n",
      "DatetimeIndex: 504 entries, 2019-08-01 to 2021-07-30\n",
      "Data columns (total 6 columns):\n",
      " #   Column     Non-Null Count  Dtype  \n",
      "---  ------     --------------  -----  \n",
      " 0   Open       504 non-null    float64\n",
      " 1   High       504 non-null    float64\n",
      " 2   Low        504 non-null    float64\n",
      " 3   Close      504 non-null    float64\n",
      " 4   Adj Close  504 non-null    float64\n",
      " 5   Volume     504 non-null    int64  \n",
      "dtypes: float64(5), int64(1)\n",
      "memory usage: 27.6 KB\n",
      "<module 'yfinance' from '/usr/local/lib/python3.7/dist-packages/yfinance/__init__.py'>\n"
     ]
    }
   ],
   "source": [
    "import yfinance as yf\n",
    "\n",
    "data= yf.download('AAPL', '2019-08-01', '2021-08-01')\n",
    "data.info()\n",
    "print(yf)\n"
   ]
  },
  {
   "cell_type": "markdown",
   "metadata": {
    "id": "V0s2rMvY8Ur-"
   },
   "source": [
    "info() 함수를 통해 column정보와 data의 갯수, data의 type까지 알 수 있다. \n",
    "date time index에 구간이 내가 정한데로 나와 있는 것도 볼 수 있다. "
   ]
  },
  {
   "cell_type": "code",
   "execution_count": 24,
   "metadata": {
    "colab": {
     "base_uri": "https://localhost:8080/"
    },
    "id": "6UuHXxI18VEm",
    "outputId": "be69ece2-4fd6-4ab3-e5b4-521ff281c1b4"
   },
   "outputs": [
    {
     "name": "stdout",
     "output_type": "stream",
     "text": [
      "Date\n",
      "2019-08-01    53.474998\n",
      "2019-08-02    51.382500\n",
      "2019-08-05    49.497501\n",
      "2019-08-06    49.077499\n",
      "2019-08-07    48.852501\n",
      "Name: Open, dtype: float64\n"
     ]
    }
   ],
   "source": [
    "ts = data['Open']\n",
    "print(ts.head())"
   ]
  },
  {
   "cell_type": "markdown",
   "metadata": {
    "id": "UI4ltg3f8vBD"
   },
   "source": [
    "ts 객체에 Open data를 담고 .head() 함수로 상위 5개의 항목을 가져와 본다. \n",
    "\n",
    "\n",
    "\n",
    "혹시, \n",
    "[Pandas](https://colab.research.google.com/drive/1GQSjJvnRxxMhOGiopbX2_m9swbMOp7PP) 에대하여 더 정리된 것을 알고 싶다면, 링크를 통해 확인 할 수 있다. "
   ]
  },
  {
   "cell_type": "markdown",
   "metadata": {
    "id": "TikW1HInBaYt"
   },
   "source": [
    "#### Pyplot API \n",
    "아래의 예는 Pyplot API 방법을 이용하여, 한개씩 data를 넣어 준 형태 이다. 이는 객체지향으로 만들었다고 하기 어렵지만, 가능은 하다. "
   ]
  },
  {
   "cell_type": "code",
   "execution_count": 23,
   "metadata": {
    "colab": {
     "base_uri": "https://localhost:8080/",
     "height": 422
    },
    "id": "rIlUdv6F8uoj",
    "outputId": "4e83034a-2faa-4b63-a625-0007ef014eda"
   },
   "outputs": [
    {
     "name": "stdout",
     "output_type": "stream",
     "text": [
      "\r",
      "[*********************100%***********************]  1 of 1 completed\n"
     ]
    },
    {
     "data": {
      "image/png": "[encoded data removed]",
      "text/plain": [
       "<Figure size 720x432 with 1 Axes>"
      ]
     },
     "metadata": {
      "needs_background": "light"
     },
     "output_type": "display_data"
    }
   ],
   "source": [
    "# import fix_yahoo_finance as yf\n",
    "import yfinance as yf\n",
    "import matplotlib.pyplot as plt\n",
    "\n",
    "data = yf.download('AAPL', '2019-08-01', '2020-08-01')\n",
    "ts = data['Open']\n",
    "plt.figure(figsize=(10,6))\n",
    "plt.plot(ts)\n",
    "plt.legend(labels=['Price'], loc='best')\n",
    "plt.title('Stock Market fluctuation of AAPL') \n",
    "plt.xlabel('Date') \n",
    "plt.ylabel('Stock Market Open Price') \n",
    "plt.show()"
   ]
  },
  {
   "cell_type": "markdown",
   "metadata": {
    "id": "NjJGgZ4BBnpS"
   },
   "source": [
    "#### Pyplot API 객체지향  "
   ]
  },
  {
   "cell_type": "code",
   "execution_count": null,
   "metadata": {
    "id": "-YH80k9wBn-V"
   },
   "outputs": [],
   "source": [
    "from matplotlib.backends.backend_agg\n",
    "import FigureCanvasAgg as FigureCanvas\n",
    "from matplotlib.figure import Figure\n",
    "import matplotlib.pyplot as plt\n"
   ]
  },
  {
   "cell_type": "markdown",
   "metadata": {
    "id": "UEIECNDwLWUh"
   },
   "source": [
    "객체지향을 위해 import를 해 준다. "
   ]
  },
  {
   "cell_type": "code",
   "execution_count": null,
   "metadata": {
    "id": "c92hrkTrLWFB"
   },
   "outputs": [],
   "source": [
    "fig = Figure()\n",
    "\n",
    "import numpy as np\n",
    "np.random.seed(6)\n",
    "x = np.random.randn(20000)\n",
    "\n",
    "ax = fig.add_subplot(111)\n",
    "ax.hist(x, 100)\n",
    "ax.set_title('Artist Layer Histogram')\n",
    "# fig.savefig('Matplotlib_histogram.png')\n",
    "plt.show()"
   ]
  }
 ],
 "metadata": {
  "colab": {
   "collapsed_sections": [],
   "name": "Visualiztion _python.ipynb",
   "provenance": [],
   "toc_visible": true
  },
  "kernelspec": {
   "display_name": "Python 3",
   "language": "python",
   "name": "python3"
  },
  "language_info": {
   "codemirror_mode": {
    "name": "ipython",
    "version": 3
   },
   "file_extension": ".py",
   "mimetype": "text/x-python",
   "name": "python",
   "nbconvert_exporter": "python",
   "pygments_lexer": "ipython3",
   "version": "3.8.8"
  }
 },
 "nbformat": 4,
 "nbformat_minor": 1
}

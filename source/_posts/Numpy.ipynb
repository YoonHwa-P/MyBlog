{
  "nbformat": 4,
  "nbformat_minor": 0,
  "metadata": {
    "colab": {
      "name": "Numpy.ipynb",
      "provenance": [],
      "collapsed_sections": [],
      "toc_visible": true,
      "authorship_tag": "ABX9TyOtgEKFM+VvWobJPZSemgm5",
      "include_colab_link": true
    },
    "kernelspec": {
      "name": "python3",
      "display_name": "Python 3"
    },
    "language_info": {
      "name": "python"
    }
  },
  "cells": [
    {
      "cell_type": "markdown",
      "metadata": {
        "id": "view-in-github",
        "colab_type": "text"
      },
      "source": [
        "<a href=\"https://colab.research.google.com/github/YoonHwa-P/MyBlog/blob/main/Numpy.ipynb\" target=\"_parent\"><img src=\"https://colab.research.google.com/assets/colab-badge.svg\" alt=\"Open In Colab\"/></a>"
      ]
    },
    {
      "cell_type": "markdown",
      "metadata": {
        "id": "jElIZ_g-zC6u"
      },
      "source": [
        "# Numpy"
      ]
    },
    {
      "cell_type": "markdown",
      "metadata": {
        "id": "-HBwPcyWzS_2"
      },
      "source": [
        "## **Numpy 정의**\n",
        "\n",
        "NumPy는 행렬이나 일반적으로 대규모 다차원 배열을 쉽게 처리 할 수 있도록 지원하는 파이썬의 라이브러리\n",
        "Numpy는 데이터 구조 외에도 수치 계산을 위해 효율적으로 구현된 기능을 제시 한다. \n",
        "\n",
        "\n",
        "Ref. [Wiki](https://ko.wikipedia.org/wiki/NumPy)\n"
      ]
    },
    {
      "cell_type": "markdown",
      "metadata": {
        "id": "mJMqKtS8z7FZ"
      },
      "source": [
        "\n",
        "\n",
        "---\n",
        "## 라이브러리에서 numpy 불러오기\n"
      ]
    },
    {
      "cell_type": "markdown",
      "metadata": {
        "id": "mXhvc_hO02GH"
      },
      "source": [
        "우리는 numpy를 import 하여 numpy에 내장되어 있는 함수를 가져와 쓸 수 있다. 일반적으로 np에 저장하여 많이 사용 하는 듯 하다. "
      ]
    },
    {
      "cell_type": "code",
      "metadata": {
        "colab": {
          "base_uri": "https://localhost:8080/"
        },
        "id": "9NypdTiDy2r-",
        "outputId": "ca2e7675-3aae-484b-fb02-1cda322b10f7"
      },
      "source": [
        "import numpy as np\n",
        "print(np.__version__)\n",
        "\n",
        "print (\"Numpy의 version을 확인 해 볼 수 있다. \")\n",
        "\n",
        "temp = np.array([1, 2, 3])\n",
        "print(type(temp))\n",
        "\n",
        "print (\"Numpy의 type은 nd array인 것을 볼 수 있다.  \")"
      ],
      "execution_count": 2,
      "outputs": [
        {
          "output_type": "stream",
          "name": "stdout",
          "text": [
            "1.19.5\n",
            "Numpy의 version을 확인 해 볼 수 있다. \n",
            "<class 'numpy.ndarray'>\n"
          ]
        }
      ]
    },
    {
      "cell_type": "markdown",
      "metadata": {
        "id": "YoaRKlDf0SER"
      },
      "source": [
        "Numpy의 Type을 보면 nd array 인 것을 볼 수 있는데 \n",
        "\n",
        "ND : N dimension  을 의미한다. \n",
        "즉 한국어로 번역 해 보면 N차 행렬 정도로 볼 수 있다. "
      ]
    },
    {
      "cell_type": "markdown",
      "metadata": {
        "id": "J718SJZ41Kt2"
      },
      "source": [
        "## Numpy 에서 배열을 생성 해 보자."
      ]
    },
    {
      "cell_type": "markdown",
      "metadata": {
        "id": "iLi0KDlq1PUu"
      },
      "source": [
        "### 1차원 배열 생성\n",
        "1차원의 배열을 생성해서 array와 List의 다른 점을 알아보자.\n",
        "\n",
        "차이점은 shpae를 찍어 보면 알 수 있다. \n",
        "내장 함수 : (fuction or method or attribute)"
      ]
    },
    {
      "cell_type": "code",
      "metadata": {
        "colab": {
          "base_uri": "https://localhost:8080/"
        },
        "id": "H8I5YwRg1JvT",
        "outputId": "cbc5df9d-a31d-40a2-c5a9-72c1f11e95d6"
      },
      "source": [
        "data1 = [0, 1, 2, 3, 4]\n",
        "data2 = [10, 9, 8, 7, 6]\n",
        "\n",
        "My_array = np.array(data1)\n",
        "\n",
        "print(\"data1은 List이다. \")\n",
        "print(data1)\n",
        "print(type(data1))\n",
        "#print(data1.shape)  \n",
        "#List의 경우 shape 함수가 내장 되어 있지 않아 shape를 알 수 없다. \n",
        "print(\"My_array은 numpy형식의 tuple인 것을 알 수 있다.  \")\n",
        "print(My_array)\n",
        "print(My_array.shape)\n",
        "print(type(My_array))\n",
        "\n",
        "print(\".dtype() 는 data의 type을 확인 할 수 있는 function 이다.\")\n",
        "print(My_array.dtype)\n"
      ],
      "execution_count": 11,
      "outputs": [
        {
          "output_type": "stream",
          "name": "stdout",
          "text": [
            "data1은 List이다. \n",
            "[0, 1, 2, 3, 4]\n",
            "<class 'list'>\n",
            "My_array은 numpy형식의 tuple인 것을 알 수 있다.  \n",
            "[0 1 2 3 4]\n",
            "(5,)\n",
            "<class 'numpy.ndarray'>\n",
            ".dtype() 는 data의 type을 확인 할 수 있는 function 이다.\n",
            "int64\n"
          ]
        }
      ]
    },
    {
      "cell_type": "markdown",
      "metadata": {
        "id": "DHkT-ghXFw4F"
      },
      "source": [
        " [List](https://colab.research.google.com/github/YoonHwa-P/MyBlog/blob/main/21_11_01_Python_List.ipynb) 형식의 경우 shape 함수가 내장 되어 있지 않은 반면, \n",
        "numpy 형식의 np.array 의 경우  [tuple](https://colab.research.google.com/github/YoonHwa-P/MyBlog/blob/main/21_11_01_Python_tuple.ipynb) shape 함수가 내장 되어 에러가 나지 않과 (5, )의 형태로 result가 나오는 것 을 볼 수 있다. \n",
        "\n",
        "\n",
        ".dtype() 는 data의 type을 확인 할 수 있는 function 이다.\n",
        "이때 나타나는 int 64는 64byte의 타입 이라는 것을 알려 준다. \n",
        "\n",
        "\n",
        ![image](/imeges/npType_.PNG)
        "https://rfriend.tistory.com/285\n"
      ]
    },
    {
      "cell_type": "markdown",
      "metadata": {
        "id": "dSbvL4pY21cJ"
      },
      "source": [
        "### 2차원 배열 생성 \n",
        "\n",
        "4 X 3 배열을 만들어 보자."
      ]
    },
    {
      "cell_type": "code",
      "metadata": {
        "colab": {
          "base_uri": "https://localhost:8080/"
        },
        "id": "NAYOa8vvKX11",
        "outputId": "4428821f-1b24-42dc-f08f-2e7280a699d3"
      },
      "source": [
        "my_array4 = np.array([[2,4,6],[8,10,12],[14,16,18],[20,22,24]])\n",
        "print(my_array4)\n",
        "\n",
        "my_array4.shape"
      ],
      "execution_count": 14,
      "outputs": [
        {
          "output_type": "stream",
          "name": "stdout",
          "text": [
            "[[ 2  4  6]\n",
            " [ 8 10 12]\n",
            " [14 16 18]\n",
            " [20 22 24]]\n"
          ]
        },
        {
          "output_type": "execute_result",
          "data": {
            "text/plain": [
              "(4, 3)"
            ]
          },
          "metadata": {},
          "execution_count": 14
        }
      ]
    },
    {
      "cell_type": "markdown",
      "metadata": {
        "id": "DFBt0K2DKqrC"
      },
      "source": [
        "### 3차원 배열 생성 "
      ]
    },
    {
      "cell_type": "code",
      "metadata": {
        "colab": {
          "base_uri": "https://localhost:8080/"
        },
        "id": "whXzTuYYKukR",
        "outputId": "a4df2f63-9456-4922-b2cc-1badbbfcb4f5"
      },
      "source": [
        "my_array5 = np.array([[[1, 2], [3, 4]], [[5, 6], [7, 8]]])\n",
        "print(my_array5)\n",
        "my_array5.shape"
      ],
      "execution_count": 15,
      "outputs": [
        {
          "output_type": "stream",
          "name": "stdout",
          "text": [
            "[[[1 2]\n",
            "  [3 4]]\n",
            "\n",
            " [[5 6]\n",
            "  [7 8]]]\n"
          ]
        },
        {
          "output_type": "execute_result",
          "data": {
            "text/plain": [
              "(2, 2, 2)"
            ]
          },
          "metadata": {},
          "execution_count": 15
        }
      ]
    },
    {
      "cell_type": "markdown",
      "metadata": {
        "id": "NvUztT3sMOhV"
      },
      "source": [
        "## Numpy 기본 함수들\n",
        "\n",
        "  +  arange\n",
        "  +  zeroes, ones\n",
        "  + reshape\n"
      ]
    },
    {
      "cell_type": "markdown",
      "metadata": {
        "id": "dDrUWWwUMkwt"
      },
      "source": [
        "## Numpy 인덱싱과 슬라이딩"
      ]
    },
    {
      "cell_type": "markdown",
      "metadata": {
        "id": "LjbApI6IMorq"
      },
      "source": [
        "## Numpy 정렬"
      ]
    }
  ]
}